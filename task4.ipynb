{
 "cells": [
  {
   "cell_type": "code",
   "execution_count": 17,
   "metadata": {
    "collapsed": true
   },
   "outputs": [],
   "source": [
    "import pandas as pd\n",
    "import numpy as np\n",
    "import os\n",
    "\n",
    "path = '../data/test1/ccf_offline_stage1_test_revised.csv'\n",
    "data = pd.read_csv(path)\n",
    "dataset = data.copy()"
   ]
  },
  {
   "cell_type": "code",
   "execution_count": 18,
   "outputs": [
    {
     "name": "stdout",
     "output_type": "stream",
     "text": [
      "<bound method NDFrame._add_numeric_operations.<locals>.any of         User_id  Merchant_id  Coupon_id  Discount_rate  Distance   \n",
      "0         False        False      False          False     False  \\\n",
      "1         False        False      False          False      True   \n",
      "2         False        False      False          False     False   \n",
      "3         False        False      False          False     False   \n",
      "4         False        False      False          False     False   \n",
      "...         ...          ...        ...            ...       ...   \n",
      "113635    False        False      False          False     False   \n",
      "113636    False        False      False          False      True   \n",
      "113637    False        False      False          False      True   \n",
      "113638    False        False      False          False     False   \n",
      "113639    False        False      False          False     False   \n",
      "\n",
      "        Date_received  \n",
      "0               False  \n",
      "1               False  \n",
      "2               False  \n",
      "3               False  \n",
      "4               False  \n",
      "...               ...  \n",
      "113635          False  \n",
      "113636          False  \n",
      "113637          False  \n",
      "113638          False  \n",
      "113639          False  \n",
      "\n",
      "[113640 rows x 6 columns]>\n",
      "User_id          0.00000\n",
      "Merchant_id      0.00000\n",
      "Coupon_id        0.00000\n",
      "Discount_rate    0.00000\n",
      "Distance         0.10616\n",
      "Date_received    0.00000\n",
      "dtype: float64\n"
     ]
    }
   ],
   "source": [
    "#查看缺失值\n",
    "print(dataset.isnull().any)\n",
    "#缺失值比例查看\n",
    "print(dataset.isnull().sum() / len(dataset))"
   ],
   "metadata": {
    "collapsed": false
   }
  },
  {
   "cell_type": "code",
   "execution_count": 21,
   "outputs": [],
   "source": [
    "#将 Distance 中空值填充为-1\n",
    "dataset['Distance'].fillna(-1, inplace=True)\n",
    "#将领券时间转换为时间类型\n",
    "dataset['Date_received'] = pd.to_datetime(dataset['Date_received'], format='%Y%m%d')\n",
    "#判断优惠券是否为满减类型\n",
    "dataset['Ismanjian'] = dataset['Discount_rate'].map(lambda x: 1 if \":\" in str(x) else 0)\n",
    "#将优惠券转换为折扣率\n",
    "dataset['Discount_rate'] = dataset['Discount_rate'].map(lambda x: round(float(x), 5)\n",
    "if ':' not in str(x)\n",
    "else\n",
    "round((float(str(x).split(':')[0]) - float(str(x).split(':')[1])) / float(str(x).split(':')[0]), 5))\n",
    "#数据打标：优惠券折扣大于等于 8 折的为 1，反之为 0\n",
    "dataset['Label'] = list(map(lambda x: 1 if x <= 0.8 else 0, dataset['Discount_rate']))\n",
    "#按照日期转换为领券星期\n",
    "dataset[\"Weekday_receive\"] = dataset['Date_received'].apply(lambda x: x.isoweekday())\n",
    "#获取领券月份\n",
    "dataset['Received_month'] = dataset['Date_received'].apply(lambda x: x.month)\n",
    "#生成处理后的数据表格\n",
    "path = './ccf_offline_stage1_test_revised_output'\n",
    "if not os.path.exists(path):\n",
    "    os.makedirs(path)\n",
    "dataset.to_csv(path + '.csv', index=False)"
   ],
   "metadata": {
    "collapsed": false
   }
  }
 ],
 "metadata": {
  "kernelspec": {
   "display_name": "Python 3",
   "language": "python",
   "name": "python3"
  },
  "language_info": {
   "codemirror_mode": {
    "name": "ipython",
    "version": 2
   },
   "file_extension": ".py",
   "mimetype": "text/x-python",
   "name": "python",
   "nbconvert_exporter": "python",
   "pygments_lexer": "ipython2",
   "version": "2.7.6"
  }
 },
 "nbformat": 4,
 "nbformat_minor": 0
}
