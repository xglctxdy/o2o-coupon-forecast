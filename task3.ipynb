{
 "cells": [
  {
   "cell_type": "code",
   "execution_count": 2,
   "metadata": {
    "collapsed": true
   },
   "outputs": [
    {
     "name": "stdout",
     "output_type": "stream",
     "text": [
      "1.8.0\n"
     ]
    }
   ],
   "source": [
    "import numpy as np\n",
    "import pandas as pd\n",
    "import pyecharts\n",
    "from pyecharts.charts import Bar\n",
    "from pyecharts.charts import Line\n",
    "from pyecharts.charts import Pie\n",
    "from pyecharts import options as opts\n",
    "import os\n",
    "\n",
    "print(pyecharts.__version__)"
   ]
  },
  {
   "cell_type": "code",
   "execution_count": 3,
   "outputs": [],
   "source": [
    "path = '../data/test1/ccf_offline_stage1_test_revised.csv'\n",
    "data = pd.read_csv(path)\n",
    "dataset = data.copy()\n",
    "#将 Distance 中空值填充为-1\n",
    "dataset['Distance'].fillna(-1, inplace=True)\n",
    "#将领券时间转换为时间类型\n",
    "dataset['Date_received'] = pd.to_datetime(dataset['Date_received'], format='%Y%m%d')\n",
    "#判断优惠券是否为满减类型\n",
    "dataset['Ismanjian'] = dataset['Discount_rate'].map(lambda x: 1 if \":\" in str(x) else 0)\n",
    "#将优惠券转换为折扣率\n",
    "dataset['Discount_rate'] = dataset['Discount_rate'].map(lambda x: round(float(x), 5)\n",
    "if ':' not in str(x)\n",
    "else round((float(str(x).split(':')[0]) - float(str(x).split(':')[1])) / float(str(x).split(':')[0]), 5))\n",
    "#数据打标：优惠券折扣大于等于 8 折的为 1，反之为 0\n",
    "dataset['Label'] = list(map(lambda x: 1 if x <= 0.8 else 0, dataset['Discount_rate']))\n",
    "#按照日期转换为领券星期\n",
    "dataset[\"Weekday_receive\"] = dataset['Date_received'].apply(lambda x: x.isoweekday())\n",
    "#获取领券月份\n",
    "dataset['Received_month'] = dataset['Date_received'].apply(lambda x: x.month)\n",
    "#生成处理后的数据表格\n",
    "path = 'ccf_offline_stage1_test_revised_output'\n",
    "if not os.path.exists(path):\n",
    "    os.makedirs(path)\n",
    "dataset.to_csv(path + 'ccf_offline_stage1_test_revised_output.csv', index=False)"
   ],
   "metadata": {
    "collapsed": false
   }
  },
  {
   "cell_type": "code",
   "execution_count": 7,
   "outputs": [
    {
     "name": "stderr",
     "output_type": "stream",
     "text": [
      "E:\\code\\pycharm\\learn\\venv\\lib\\site-packages\\pyecharts\\charts\\chart.py:14: PendingDeprecationWarning: pyecharts 各 Chart 将在 1.9.0 版本开始强制使用 ChartItem 进行数据项配置\n",
      "  super().__init__(init_opts=init_opts)\n"
     ]
    },
    {
     "data": {
      "text/plain": "'E:\\\\code\\\\pycharm\\\\learn\\\\ccf_offline_stage1_test_revised_output\\\\Bar_1.html'"
     },
     "execution_count": 7,
     "metadata": {},
     "output_type": "execute_result"
    }
   ],
   "source": [
    "dataset_1 = dataset[dataset['Date_received'].notna()]  #取出领券日期非零项\n",
    "group = dataset_1.groupby('Date_received', as_index=False)['Coupon_id'].count()\n",
    "#按照领券日期进行分组，统计优惠券数量\n",
    "Bar_1 = (\n",
    "    Bar(\n",
    "        init_opts=opts.InitOpts\n",
    "        (width='1500px', height='600px')\n",
    "    )\n",
    "    #添加 x 轴数\n",
    "    .add_xaxis(list(group['Date_received']))\n",
    "    #添加 y 轴数据\n",
    "    .add_yaxis('', list(group['Coupon_id']))\n",
    "    #全局配置\n",
    "    .set_global_opts(\n",
    "        title_opts=opts.TitleOpts(title='每天领券数'),  #柱状图标题\n",
    "        legend_opts=opts.LegendOpts(is_show=True),  #显示图例\n",
    "\n",
    "        xaxis_opts=opts.AxisOpts(axislabel_opts=opts.LabelOpts(rotate=60, horizontal_align='right'),\n",
    "                                 interval=1),\n",
    "    )  #显示横坐标数值，逆时针旋转 60 度)\n",
    "    #系列配置\n",
    "    .set_series_opts(\n",
    "        opts.LabelOpts(is_show=True),  #显示值\n",
    "        markline_opts=opts.MarkLineOpts(\n",
    "            data=[\n",
    "                opts.MarkLineItem\n",
    "                (type_='max', name='最大值')\n",
    "            ]\n",
    "        )\n",
    "    )\n",
    ")\n",
    "Bar_1.render(path + '/Bar_1.html')"
   ],
   "metadata": {
    "collapsed": false
   }
  },
  {
   "cell_type": "code",
   "execution_count": 13,
   "outputs": [
    {
     "name": "stderr",
     "output_type": "stream",
     "text": [
      "E:\\code\\pycharm\\learn\\venv\\lib\\site-packages\\pyecharts\\charts\\chart.py:14: PendingDeprecationWarning: pyecharts 各 Chart 将在 1.9.0 版本开始强制使用 ChartItem 进行数据项配置\n",
      "  super().__init__(init_opts=init_opts)\n"
     ]
    },
    {
     "data": {
      "text/plain": "'E:\\\\code\\\\pycharm\\\\learn\\\\ccf_offline_stage1_test_revised_output\\\\Bar_2.html'"
     },
     "execution_count": 13,
     "metadata": {},
     "output_type": "execute_result"
    }
   ],
   "source": [
    "import collections\n",
    "\n",
    "distance = dataset[dataset['Distance'] != -1]['Distance'].values\n",
    "#-1 为原空数据，筛选所有非空数据\n",
    "distance = dict(collections.Counter(distance))\n",
    "#对所有非空数据进行计数后存放到新生成的字典里\n",
    "x = list(distance.keys())  #距离字典的所有键存到 x 列表\n",
    "x.sort(reverse=False)  #对距离进行排序\n",
    "y = list(distance.values())  #距离字典的所有值存到 y 列表\n",
    "Bar_2 = (\n",
    "    Bar()\n",
    "    #添加 x 轴数据\n",
    "    .add_xaxis(x)\n",
    "    #添加 y 轴数据\n",
    "    .add_yaxis('', y)\n",
    "    #全局配置\n",
    "    .set_global_opts(\n",
    "        title_opts=opts.TitleOpts(title='各类距离消费次数')\n",
    "    )\n",
    "    #系列配置\n",
    "    .set_series_opts(\n",
    "        opts.LabelOpts(is_show=True)\n",
    "    )\n",
    ")\n",
    "Bar_2.render(path + '/Bar_2.html')"
   ],
   "metadata": {
    "collapsed": false
   }
  },
  {
   "cell_type": "code",
   "execution_count": 14,
   "outputs": [
    {
     "name": "stderr",
     "output_type": "stream",
     "text": [
      "E:\\code\\pycharm\\learn\\venv\\lib\\site-packages\\pyecharts\\charts\\chart.py:14: PendingDeprecationWarning: pyecharts 各 Chart 将在 1.9.0 版本开始强制使用 ChartItem 进行数据项配置\n",
      "  super().__init__(init_opts=init_opts)\n"
     ]
    },
    {
     "data": {
      "text/plain": "'E:\\\\code\\\\pycharm\\\\learn\\\\ccf_offline_stage1_test_revised_output\\\\Bar_3.html'"
     },
     "execution_count": 14,
     "metadata": {},
     "output_type": "execute_result"
    }
   ],
   "source": [
    "rate = [dataset[dataset['Distance'] == i]['Label'].value_counts()[1] / dataset[dataset['Distance'] == i][\n",
    "    'Label'].value_counts().sum() for i in range(11)]\n",
    "Bar_3 = (\n",
    "    Bar()\n",
    "    #添加 x 轴数据\n",
    "    .add_xaxis(list(range(11)))\n",
    "    #添加 y 轴数据\n",
    "    .add_yaxis('核销率', list(rate))\n",
    "    #全局配置\n",
    "    .set_global_opts(title_opts=opts.TitleOpts(title='消费距离与核销率'))\n",
    "    #系列配置\n",
    "    .set_series_opts(\n",
    "        opts.LabelOpts(is_show=False)\n",
    "    )\n",
    ")\n",
    "Bar_3.render(path + '/Bar_3.html')"
   ],
   "metadata": {
    "collapsed": false
   }
  },
  {
   "cell_type": "code",
   "execution_count": 15,
   "outputs": [
    {
     "name": "stderr",
     "output_type": "stream",
     "text": [
      "C:\\Users\\28641\\AppData\\Local\\Temp\\ipykernel_9312\\1367222005.py:2: SettingWithCopyWarning: \n",
      "A value is trying to be set on a copy of a slice from a DataFrame.\n",
      "Try using .loc[row_indexer,col_indexer] = value instead\n",
      "\n",
      "See the caveats in the documentation: https://pandas.pydata.org/pandas-docs/stable/user_guide/indexing.html#returning-a-view-versus-a-copy\n",
      "  received['cnt'] = 1\n",
      "E:\\code\\pycharm\\learn\\venv\\lib\\site-packages\\pyecharts\\charts\\chart.py:14: PendingDeprecationWarning: pyecharts 各 Chart 将在 1.9.0 版本开始强制使用 ChartItem 进行数据项配置\n",
      "  super().__init__(init_opts=init_opts)\n"
     ]
    },
    {
     "data": {
      "text/plain": "'E:\\\\code\\\\pycharm\\\\learn\\\\ccf_offline_stage1_test_revised_output\\\\Bar_4.html'"
     },
     "execution_count": 15,
     "metadata": {},
     "output_type": "execute_result"
    }
   ],
   "source": [
    "received = dataset[['Discount_rate']]\n",
    "received['cnt'] = 1\n",
    "received = received.groupby('Discount_rate').agg('sum').reset_index()\n",
    "consume_coupon = dataset[dataset['Label'] == 1][['Discount_rate']]\n",
    "consume_coupon['cnt_2'] = 1\n",
    "consume_coupon = consume_coupon.groupby('Discount_rate').agg('sum').reset_index()\n",
    "data = received.merge(consume_coupon, on='Discount_rate', how='left').fillna(0)\n",
    "Bar_4 = (\n",
    "    Bar()\n",
    "    .add_xaxis([float('%.4f' % x) for x in list(data.Discount_rate)])\n",
    "    #添加 x 轴数据\n",
    "    .add_yaxis('领取', list(data.cnt))\n",
    "    #添加 y 轴数据\n",
    "    .add_yaxis('核销', list(data.cnt_2))\n",
    "    #全局配置\n",
    "    .set_global_opts(title_opts={'text': '领取与核销'})\n",
    "    #系列配置\n",
    "    .set_series_opts(\n",
    "        opts.LabelOpts(is_show=True)  # 显示值大小\n",
    "    )\n",
    ")\n",
    "Bar_4.render(path + '/Bar_4.html')"
   ],
   "metadata": {
    "collapsed": false
   }
  },
  {
   "cell_type": "code",
   "execution_count": 16,
   "outputs": [
    {
     "name": "stdout",
     "output_type": "stream",
     "text": [
      "[0.977419922562478, 0.022580077437522]\n"
     ]
    },
    {
     "name": "stderr",
     "output_type": "stream",
     "text": [
      "E:\\code\\pycharm\\learn\\venv\\lib\\site-packages\\pyecharts\\charts\\chart.py:14: PendingDeprecationWarning: pyecharts 各 Chart 将在 1.9.0 版本开始强制使用 ChartItem 进行数据项配置\n",
      "  super().__init__(init_opts=init_opts)\n",
      "E:\\code\\pycharm\\learn\\venv\\lib\\site-packages\\pyecharts\\charts\\chart.py:14: PendingDeprecationWarning: pyecharts 各 Chart 将在 1.9.0 版本开始强制使用 ChartItem 进行数据项配置\n",
      "  super().__init__(init_opts=init_opts)\n"
     ]
    },
    {
     "data": {
      "text/plain": "'E:\\\\code\\\\pycharm\\\\learn\\\\ccf_offline_stage1_test_revised_output\\\\pie_1.html'"
     },
     "execution_count": 16,
     "metadata": {},
     "output_type": "execute_result"
    }
   ],
   "source": [
    "week_coupon = dataset[dataset['Label'] == 1]['Weekday_receive'].value_counts()\n",
    "week_received = dataset[dataset['Weekday_receive'].notna()]['Weekday_receive'].value_counts()\n",
    "week_coupon.sort_index(inplace=True)\n",
    "week_received.sort_index(inplace=True)\n",
    "line_1 = (\n",
    "    Line()\n",
    "    .add_xaxis([str(x) for x in range(1, 8)])\n",
    "    .add_yaxis('领取', list(week_received))\n",
    "    .add_yaxis('核销', list(week_coupon))\n",
    "    .set_global_opts(title_opts={'text': '每周领券数与核销数折线图'})\n",
    ")\n",
    "line_1.render(path + '/line_1.html')\n",
    "##############各类优惠券数量占比饼图################\n",
    "v1 = ['折扣', '满减']\n",
    "v2 = list(dataset[dataset['Date_received'].notna()]['Ismanjian'].value_counts(True))\n",
    "print(v2)\n",
    "pie_1 = (\n",
    "    Pie()\n",
    "    .add('', [list(v) for v in zip(v1, v2)])\n",
    "    .set_global_opts(title_opts={'text': '各类优惠券数量占比饼图'})\n",
    "    .set_series_opts(label_opts=opts.LabelOpts(formatter='{b}: {c}'))\n",
    ")\n",
    "pie_1.render(path + '/pie_1.html')"
   ],
   "metadata": {
    "collapsed": false
   }
  },
  {
   "cell_type": "code",
   "execution_count": 17,
   "outputs": [
    {
     "name": "stderr",
     "output_type": "stream",
     "text": [
      "E:\\code\\pycharm\\learn\\venv\\lib\\site-packages\\pyecharts\\charts\\chart.py:14: PendingDeprecationWarning: pyecharts 各 Chart 将在 1.9.0 版本开始强制使用 ChartItem 进行数据项配置\n",
      "  super().__init__(init_opts=init_opts)\n",
      "E:\\code\\pycharm\\learn\\venv\\lib\\site-packages\\pyecharts\\charts\\chart.py:14: PendingDeprecationWarning: pyecharts 各 Chart 将在 1.9.0 版本开始强制使用 ChartItem 进行数据项配置\n",
      "  super().__init__(init_opts=init_opts)\n"
     ]
    },
    {
     "data": {
      "text/plain": "'E:\\\\code\\\\pycharm\\\\learn\\\\ccf_offline_stage1_test_revised_output\\\\pie_3.html'"
     },
     "execution_count": 17,
     "metadata": {},
     "output_type": "execute_result"
    }
   ],
   "source": [
    "v3 = list(dataset[dataset['Label'] == 1].Ismanjian.value_counts(True))\n",
    "pie_2 = (\n",
    "    Pie()\n",
    "    .add('', [list(v) for v in zip(v1, v3)])\n",
    "    .set_global_opts(title_opts={'text': '核销优惠券数量占比饼图'})\n",
    "    .set_series_opts(label_opts=opts.LabelOpts(formatter='{b}: {c}'))\n",
    ")\n",
    "pie_2.render(path + '/pie_2.html')\n",
    "v4 = ['正例', '负例']\n",
    "v5 = list(dataset['Label'].value_counts(True))\n",
    "pie_3 = (\n",
    "    Pie()\n",
    "    .add('', [list(v) for v in zip(v4, v5)])\n",
    "    .set_global_opts(title_opts={'text': '正负例饼图'})\n",
    "    .set_series_opts(label_opts=opts.LabelOpts(formatter='{b}: {c}'))  # 格式化标签输出内容\n",
    ")\n",
    "pie_3.render(path + '/pie_3.html')"
   ],
   "metadata": {
    "collapsed": false
   }
  },
  {
   "cell_type": "code",
   "execution_count": null,
   "outputs": [],
   "source": [],
   "metadata": {
    "collapsed": false
   }
  }
 ],
 "metadata": {
  "kernelspec": {
   "display_name": "Python 3",
   "language": "python",
   "name": "python3"
  },
  "language_info": {
   "codemirror_mode": {
    "name": "ipython",
    "version": 2
   },
   "file_extension": ".py",
   "mimetype": "text/x-python",
   "name": "python",
   "nbconvert_exporter": "python",
   "pygments_lexer": "ipython2",
   "version": "2.7.6"
  }
 },
 "nbformat": 4,
 "nbformat_minor": 0
}
